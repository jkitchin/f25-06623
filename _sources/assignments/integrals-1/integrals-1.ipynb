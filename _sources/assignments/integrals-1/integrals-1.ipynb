{
 "cells": [
  {
   "cell_type": "markdown",
   "id": "8fc15beb-d4b4-49bf-aa7e-7e684a55b394",
   "metadata": {
    "tags": [
     "raises-exception",
     "remove-output"
    ]
   },
   "source": [
    "Before you turn this problem in, make sure everything runs as expected. First, **restart the kernel** (in the menubar, select Kernel$\\rightarrow$Restart) and then **run all cells** (in the menubar, select Cell$\\rightarrow$Run All).\n",
    "\n",
    "Make sure you fill in any place that says `YOUR CODE HERE` or \"YOUR ANSWER HERE\", as well as your name and collaborators below:\n",
    "\n",
    "\n",
    "\n"
   ]
  },
  {
   "cell_type": "markdown",
   "id": "4f212042-02a0-4024-a427-e4483b669df5",
   "metadata": {},
   "source": [
    "# Even and odd functions\n",
    "\n",
    "An odd function $o(x)$ satisfies $o(x)=-o(-x)$ for all $x$. Therefore, for any finite $t$:\n",
    "\n",
    "$\\int_{-t}^{t}o(x) dx=0$.\n",
    "\n",
    "An even function $e(x)$ satisfies $e(x) = e(-x)$ for all $x$. Therefore, for any $t$:\n",
    "\n",
    "$\\int_{-t}^{t}e(x) dx=2 \\int_{0}^{t}e(x) dx$.\n",
    "\n",
    "The complementary error function is defined by this integral:\n",
    "\n",
    "$erfc(x) = \\frac{2}{\\sqrt{\\pi}} \\int_x^\\infty e^{-t^2} dt$\n",
    "\n",
    "determine if \n",
    "\n",
    "$g(x) = 1 - erfc(x)$ is even or odd.\n",
    "\n",
    "it is even or odd using both the criteria described above and using Python. You should define a function for g(x) and use `quad` to evaluate the erfc function.\n",
    "\n"
   ]
  },
  {
   "cell_type": "markdown",
   "id": "143c0452-5a98-4d60-9739-c561dc5ff099",
   "metadata": {},
   "source": [
    "# Plot g(x) from -5 to 5\n",
    "Comment based on this plot whether it is even or odd.\n",
    "\n"
   ]
  },
  {
   "cell_type": "code",
   "execution_count": null,
   "id": "a3be6431-ece2-43eb-bb9b-ed714f9ed88e",
   "metadata": {},
   "outputs": [],
   "source": [
    "\n",
    "\n"
   ]
  },
  {
   "cell_type": "markdown",
   "id": "62105242-fa50-4d87-970e-0e79d478782a",
   "metadata": {},
   "source": [
    "\n",
    "\n"
   ]
  },
  {
   "cell_type": "markdown",
   "id": "6caa8a47-1304-4e72-9583-0a0099657ba0",
   "metadata": {},
   "source": [
    "# Verify your conclusion using the integral definitions above.\n",
    "\n"
   ]
  },
  {
   "cell_type": "code",
   "execution_count": null,
   "id": "b454e1f5-00ad-438a-ad1b-83ef0e474308",
   "metadata": {},
   "outputs": [],
   "source": [
    "\n",
    "\n"
   ]
  },
  {
   "cell_type": "markdown",
   "id": "ee12fd4a-c5e6-4b4b-a09d-fdb9381c69d0",
   "metadata": {},
   "source": [
    "When you are done, download a PDF and turn it in on Canvas. Make sure to save your notebook, then run this cell and click on the download link.\n",
    "\n"
   ]
  },
  {
   "cell_type": "code",
   "execution_count": null,
   "id": "d1b24dda-2a2a-41b3-b44b-6916b82f530d",
   "metadata": {
    "tags": [
     "raises-exception",
     "remove-output"
    ]
   },
   "outputs": [],
   "source": [
    "%run ~/f25-06623/f25.py\n",
    "%pdf\n",
    "\n"
   ]
  }
 ],
 "metadata": {
  "kernelspec": {
   "display_name": "Python 3 (ipykernel)",
   "language": "python",
   "name": "python3"
  },
  "language_info": {
   "codemirror_mode": {
    "name": "ipython",
    "version": 3
   },
   "file_extension": ".py",
   "mimetype": "text/x-python",
   "name": "python",
   "nbconvert_exporter": "python",
   "pygments_lexer": "ipython3",
   "version": "3.12.6"
  },
  "widgets": {
   "application/vnd.jupyter.widget-state+json": {
    "state": {},
    "version_major": 2,
    "version_minor": 0
   }
  }
 },
 "nbformat": 4,
 "nbformat_minor": 5
}
